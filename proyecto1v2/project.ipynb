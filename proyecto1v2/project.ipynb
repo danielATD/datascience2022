{
 "cells": [
  {
   "cell_type": "markdown",
   "metadata": {},
   "source": [
    "# Declaración e Importación"
   ]
  },
  {
   "cell_type": "code",
   "execution_count": 8,
   "metadata": {},
   "outputs": [],
   "source": [
    "import numpy as np\n",
    "import pandas as pd\n",
    "import matplotlib.pyplot as plt\n",
    "data = pd.read_csv('DataSets/avocado.csv')"
   ]
  },
  {
   "cell_type": "markdown",
   "metadata": {},
   "source": [
    "# Introducción\n",
    "\n",
    "# Descripción del DataSet\n",
    "Este data set contiene datos semanales de ventas de aguacates de tiendas nacionales <br>\n",
    "Estos datos provienen directamente de las cajas registradoras de las tiendas.<br>\n",
    "El costo de los aguacates es por unidad aunque muchos hayan sido vendidos en bolsas."
   ]
  },
  {
   "cell_type": "code",
   "execution_count": 2,
   "metadata": {},
   "outputs": [
    {
     "name": "stdout",
     "output_type": "stream",
     "text": [
      "<class 'pandas.core.frame.DataFrame'>\n",
      "RangeIndex: 18249 entries, 0 to 18248\n",
      "Data columns (total 14 columns):\n",
      " #   Column        Non-Null Count  Dtype  \n",
      "---  ------        --------------  -----  \n",
      " 0   Unnamed: 0    18249 non-null  int64  \n",
      " 1   Date          18249 non-null  object \n",
      " 2   AveragePrice  18249 non-null  float64\n",
      " 3   Total Volume  18249 non-null  float64\n",
      " 4   4046          18249 non-null  float64\n",
      " 5   4225          18249 non-null  float64\n",
      " 6   4770          18249 non-null  float64\n",
      " 7   Total Bags    18249 non-null  float64\n",
      " 8   Small Bags    18249 non-null  float64\n",
      " 9   Large Bags    18249 non-null  float64\n",
      " 10  XLarge Bags   18249 non-null  float64\n",
      " 11  type          18249 non-null  object \n",
      " 12  year          18249 non-null  int64  \n",
      " 13  region        18249 non-null  object \n",
      "dtypes: float64(9), int64(2), object(3)\n",
      "memory usage: 1.9+ MB\n"
     ]
    }
   ],
   "source": [
    "data.info()"
   ]
  },
  {
   "cell_type": "markdown",
   "metadata": {},
   "source": [
    "El dataset cuenta con 14 variables o columnas. <br>\n",
    "3 datos categóricos.<br>\n",
    "9 datos continuos.<br>\n",
    "1 dato contiene la fecha de observación.<br>\n",
    "1 dato contiene el indice del dataset.<br>\n",
    "\n"
   ]
  },
  {
   "cell_type": "markdown",
   "metadata": {},
   "source": [
    "Leamos un poco el dataset"
   ]
  },
  {
   "cell_type": "code",
   "execution_count": 34,
   "metadata": {},
   "outputs": [
    {
     "name": "stderr",
     "output_type": "stream",
     "text": [
      "/var/folders/wq/sb4m8f217db1t4z768qqyqxm0000gn/T/ipykernel_3138/928704783.py:1: FutureWarning: this method is deprecated in favour of `Styler.hide(axis='index')`\n",
      "  data.head().style.background_gradient(cmap='Greens').hide_index()\n"
     ]
    },
    {
     "data": {
      "text/html": [
       "<style type=\"text/css\">\n",
       "#T_34ea3_row0_col0, #T_34ea3_row0_col6, #T_34ea3_row0_col9, #T_34ea3_row0_col10, #T_34ea3_row0_col12, #T_34ea3_row1_col4, #T_34ea3_row1_col10, #T_34ea3_row1_col12, #T_34ea3_row2_col2, #T_34ea3_row2_col10, #T_34ea3_row2_col12, #T_34ea3_row3_col7, #T_34ea3_row3_col8, #T_34ea3_row3_col10, #T_34ea3_row3_col12, #T_34ea3_row4_col3, #T_34ea3_row4_col5, #T_34ea3_row4_col10, #T_34ea3_row4_col12 {\n",
       "  background-color: #f7fcf5;\n",
       "  color: #000000;\n",
       "}\n",
       "#T_34ea3_row0_col2 {\n",
       "  background-color: #005321;\n",
       "  color: #f1f1f1;\n",
       "}\n",
       "#T_34ea3_row0_col3 {\n",
       "  background-color: #d4eece;\n",
       "  color: #000000;\n",
       "}\n",
       "#T_34ea3_row0_col4 {\n",
       "  background-color: #17813d;\n",
       "  color: #f1f1f1;\n",
       "}\n",
       "#T_34ea3_row0_col5 {\n",
       "  background-color: #dcf2d7;\n",
       "  color: #000000;\n",
       "}\n",
       "#T_34ea3_row0_col7 {\n",
       "  background-color: #1a843f;\n",
       "  color: #f1f1f1;\n",
       "}\n",
       "#T_34ea3_row0_col8 {\n",
       "  background-color: #19833e;\n",
       "  color: #f1f1f1;\n",
       "}\n",
       "#T_34ea3_row1_col0 {\n",
       "  background-color: #c7e9c0;\n",
       "  color: #000000;\n",
       "}\n",
       "#T_34ea3_row1_col2, #T_34ea3_row1_col7, #T_34ea3_row1_col8, #T_34ea3_row2_col3, #T_34ea3_row2_col5, #T_34ea3_row2_col6, #T_34ea3_row3_col4, #T_34ea3_row4_col0, #T_34ea3_row4_col9 {\n",
       "  background-color: #00441b;\n",
       "  color: #f1f1f1;\n",
       "}\n",
       "#T_34ea3_row1_col3 {\n",
       "  background-color: #eff9ec;\n",
       "  color: #000000;\n",
       "}\n",
       "#T_34ea3_row1_col5 {\n",
       "  background-color: #f5fbf3;\n",
       "  color: #000000;\n",
       "}\n",
       "#T_34ea3_row1_col6 {\n",
       "  background-color: #e5f5e1;\n",
       "  color: #000000;\n",
       "}\n",
       "#T_34ea3_row1_col9 {\n",
       "  background-color: #f1faee;\n",
       "  color: #000000;\n",
       "}\n",
       "#T_34ea3_row2_col0 {\n",
       "  background-color: #73c476;\n",
       "  color: #000000;\n",
       "}\n",
       "#T_34ea3_row2_col4 {\n",
       "  background-color: #c3e7bc;\n",
       "  color: #000000;\n",
       "}\n",
       "#T_34ea3_row2_col7 {\n",
       "  background-color: #3fa95c;\n",
       "  color: #f1f1f1;\n",
       "}\n",
       "#T_34ea3_row2_col8 {\n",
       "  background-color: #3fa85b;\n",
       "  color: #f1f1f1;\n",
       "}\n",
       "#T_34ea3_row2_col9, #T_34ea3_row4_col7 {\n",
       "  background-color: #e9f7e5;\n",
       "  color: #000000;\n",
       "}\n",
       "#T_34ea3_row3_col0 {\n",
       "  background-color: #228a44;\n",
       "  color: #f1f1f1;\n",
       "}\n",
       "#T_34ea3_row3_col2 {\n",
       "  background-color: #a7dba0;\n",
       "  color: #000000;\n",
       "}\n",
       "#T_34ea3_row3_col3 {\n",
       "  background-color: #92d28f;\n",
       "  color: #000000;\n",
       "}\n",
       "#T_34ea3_row3_col5 {\n",
       "  background-color: #8dd08a;\n",
       "  color: #000000;\n",
       "}\n",
       "#T_34ea3_row3_col6 {\n",
       "  background-color: #bae3b3;\n",
       "  color: #000000;\n",
       "}\n",
       "#T_34ea3_row3_col9 {\n",
       "  background-color: #9cd797;\n",
       "  color: #000000;\n",
       "}\n",
       "#T_34ea3_row4_col2 {\n",
       "  background-color: #0b7734;\n",
       "  color: #f1f1f1;\n",
       "}\n",
       "#T_34ea3_row4_col4 {\n",
       "  background-color: #52b365;\n",
       "  color: #f1f1f1;\n",
       "}\n",
       "#T_34ea3_row4_col6 {\n",
       "  background-color: #aedea7;\n",
       "  color: #000000;\n",
       "}\n",
       "#T_34ea3_row4_col8 {\n",
       "  background-color: #ebf7e7;\n",
       "  color: #000000;\n",
       "}\n",
       "</style>\n",
       "<table id=\"T_34ea3\">\n",
       "  <thead>\n",
       "    <tr>\n",
       "      <th id=\"T_34ea3_level0_col0\" class=\"col_heading level0 col0\" >Unnamed: 0</th>\n",
       "      <th id=\"T_34ea3_level0_col1\" class=\"col_heading level0 col1\" >Date</th>\n",
       "      <th id=\"T_34ea3_level0_col2\" class=\"col_heading level0 col2\" >AveragePrice</th>\n",
       "      <th id=\"T_34ea3_level0_col3\" class=\"col_heading level0 col3\" >Total Volume</th>\n",
       "      <th id=\"T_34ea3_level0_col4\" class=\"col_heading level0 col4\" >4046</th>\n",
       "      <th id=\"T_34ea3_level0_col5\" class=\"col_heading level0 col5\" >4225</th>\n",
       "      <th id=\"T_34ea3_level0_col6\" class=\"col_heading level0 col6\" >4770</th>\n",
       "      <th id=\"T_34ea3_level0_col7\" class=\"col_heading level0 col7\" >Total Bags</th>\n",
       "      <th id=\"T_34ea3_level0_col8\" class=\"col_heading level0 col8\" >Small Bags</th>\n",
       "      <th id=\"T_34ea3_level0_col9\" class=\"col_heading level0 col9\" >Large Bags</th>\n",
       "      <th id=\"T_34ea3_level0_col10\" class=\"col_heading level0 col10\" >XLarge Bags</th>\n",
       "      <th id=\"T_34ea3_level0_col11\" class=\"col_heading level0 col11\" >type</th>\n",
       "      <th id=\"T_34ea3_level0_col12\" class=\"col_heading level0 col12\" >year</th>\n",
       "      <th id=\"T_34ea3_level0_col13\" class=\"col_heading level0 col13\" >region</th>\n",
       "    </tr>\n",
       "  </thead>\n",
       "  <tbody>\n",
       "    <tr>\n",
       "      <td id=\"T_34ea3_row0_col0\" class=\"data row0 col0\" >0</td>\n",
       "      <td id=\"T_34ea3_row0_col1\" class=\"data row0 col1\" >2015-12-27</td>\n",
       "      <td id=\"T_34ea3_row0_col2\" class=\"data row0 col2\" >1.330000</td>\n",
       "      <td id=\"T_34ea3_row0_col3\" class=\"data row0 col3\" >64236.620000</td>\n",
       "      <td id=\"T_34ea3_row0_col4\" class=\"data row0 col4\" >1036.740000</td>\n",
       "      <td id=\"T_34ea3_row0_col5\" class=\"data row0 col5\" >54454.850000</td>\n",
       "      <td id=\"T_34ea3_row0_col6\" class=\"data row0 col6\" >48.160000</td>\n",
       "      <td id=\"T_34ea3_row0_col7\" class=\"data row0 col7\" >8696.870000</td>\n",
       "      <td id=\"T_34ea3_row0_col8\" class=\"data row0 col8\" >8603.620000</td>\n",
       "      <td id=\"T_34ea3_row0_col9\" class=\"data row0 col9\" >93.250000</td>\n",
       "      <td id=\"T_34ea3_row0_col10\" class=\"data row0 col10\" >0.000000</td>\n",
       "      <td id=\"T_34ea3_row0_col11\" class=\"data row0 col11\" >conventional</td>\n",
       "      <td id=\"T_34ea3_row0_col12\" class=\"data row0 col12\" >2015</td>\n",
       "      <td id=\"T_34ea3_row0_col13\" class=\"data row0 col13\" >Albany</td>\n",
       "    </tr>\n",
       "    <tr>\n",
       "      <td id=\"T_34ea3_row1_col0\" class=\"data row1 col0\" >1</td>\n",
       "      <td id=\"T_34ea3_row1_col1\" class=\"data row1 col1\" >2015-12-20</td>\n",
       "      <td id=\"T_34ea3_row1_col2\" class=\"data row1 col2\" >1.350000</td>\n",
       "      <td id=\"T_34ea3_row1_col3\" class=\"data row1 col3\" >54876.980000</td>\n",
       "      <td id=\"T_34ea3_row1_col4\" class=\"data row1 col4\" >674.280000</td>\n",
       "      <td id=\"T_34ea3_row1_col5\" class=\"data row1 col5\" >44638.810000</td>\n",
       "      <td id=\"T_34ea3_row1_col6\" class=\"data row1 col6\" >58.330000</td>\n",
       "      <td id=\"T_34ea3_row1_col7\" class=\"data row1 col7\" >9505.560000</td>\n",
       "      <td id=\"T_34ea3_row1_col8\" class=\"data row1 col8\" >9408.070000</td>\n",
       "      <td id=\"T_34ea3_row1_col9\" class=\"data row1 col9\" >97.490000</td>\n",
       "      <td id=\"T_34ea3_row1_col10\" class=\"data row1 col10\" >0.000000</td>\n",
       "      <td id=\"T_34ea3_row1_col11\" class=\"data row1 col11\" >conventional</td>\n",
       "      <td id=\"T_34ea3_row1_col12\" class=\"data row1 col12\" >2015</td>\n",
       "      <td id=\"T_34ea3_row1_col13\" class=\"data row1 col13\" >Albany</td>\n",
       "    </tr>\n",
       "    <tr>\n",
       "      <td id=\"T_34ea3_row2_col0\" class=\"data row2 col0\" >2</td>\n",
       "      <td id=\"T_34ea3_row2_col1\" class=\"data row2 col1\" >2015-12-13</td>\n",
       "      <td id=\"T_34ea3_row2_col2\" class=\"data row2 col2\" >0.930000</td>\n",
       "      <td id=\"T_34ea3_row2_col3\" class=\"data row2 col3\" >118220.220000</td>\n",
       "      <td id=\"T_34ea3_row2_col4\" class=\"data row2 col4\" >794.700000</td>\n",
       "      <td id=\"T_34ea3_row2_col5\" class=\"data row2 col5\" >109149.670000</td>\n",
       "      <td id=\"T_34ea3_row2_col6\" class=\"data row2 col6\" >130.500000</td>\n",
       "      <td id=\"T_34ea3_row2_col7\" class=\"data row2 col7\" >8145.350000</td>\n",
       "      <td id=\"T_34ea3_row2_col8\" class=\"data row2 col8\" >8042.210000</td>\n",
       "      <td id=\"T_34ea3_row2_col9\" class=\"data row2 col9\" >103.140000</td>\n",
       "      <td id=\"T_34ea3_row2_col10\" class=\"data row2 col10\" >0.000000</td>\n",
       "      <td id=\"T_34ea3_row2_col11\" class=\"data row2 col11\" >conventional</td>\n",
       "      <td id=\"T_34ea3_row2_col12\" class=\"data row2 col12\" >2015</td>\n",
       "      <td id=\"T_34ea3_row2_col13\" class=\"data row2 col13\" >Albany</td>\n",
       "    </tr>\n",
       "    <tr>\n",
       "      <td id=\"T_34ea3_row3_col0\" class=\"data row3 col0\" >3</td>\n",
       "      <td id=\"T_34ea3_row3_col1\" class=\"data row3 col1\" >2015-12-06</td>\n",
       "      <td id=\"T_34ea3_row3_col2\" class=\"data row3 col2\" >1.080000</td>\n",
       "      <td id=\"T_34ea3_row3_col3\" class=\"data row3 col3\" >78992.150000</td>\n",
       "      <td id=\"T_34ea3_row3_col4\" class=\"data row3 col4\" >1132.000000</td>\n",
       "      <td id=\"T_34ea3_row3_col5\" class=\"data row3 col5\" >71976.410000</td>\n",
       "      <td id=\"T_34ea3_row3_col6\" class=\"data row3 col6\" >72.580000</td>\n",
       "      <td id=\"T_34ea3_row3_col7\" class=\"data row3 col7\" >5811.160000</td>\n",
       "      <td id=\"T_34ea3_row3_col8\" class=\"data row3 col8\" >5677.400000</td>\n",
       "      <td id=\"T_34ea3_row3_col9\" class=\"data row3 col9\" >133.760000</td>\n",
       "      <td id=\"T_34ea3_row3_col10\" class=\"data row3 col10\" >0.000000</td>\n",
       "      <td id=\"T_34ea3_row3_col11\" class=\"data row3 col11\" >conventional</td>\n",
       "      <td id=\"T_34ea3_row3_col12\" class=\"data row3 col12\" >2015</td>\n",
       "      <td id=\"T_34ea3_row3_col13\" class=\"data row3 col13\" >Albany</td>\n",
       "    </tr>\n",
       "    <tr>\n",
       "      <td id=\"T_34ea3_row4_col0\" class=\"data row4 col0\" >4</td>\n",
       "      <td id=\"T_34ea3_row4_col1\" class=\"data row4 col1\" >2015-11-29</td>\n",
       "      <td id=\"T_34ea3_row4_col2\" class=\"data row4 col2\" >1.280000</td>\n",
       "      <td id=\"T_34ea3_row4_col3\" class=\"data row4 col3\" >51039.600000</td>\n",
       "      <td id=\"T_34ea3_row4_col4\" class=\"data row4 col4\" >941.480000</td>\n",
       "      <td id=\"T_34ea3_row4_col5\" class=\"data row4 col5\" >43838.390000</td>\n",
       "      <td id=\"T_34ea3_row4_col6\" class=\"data row4 col6\" >75.780000</td>\n",
       "      <td id=\"T_34ea3_row4_col7\" class=\"data row4 col7\" >6183.950000</td>\n",
       "      <td id=\"T_34ea3_row4_col8\" class=\"data row4 col8\" >5986.260000</td>\n",
       "      <td id=\"T_34ea3_row4_col9\" class=\"data row4 col9\" >197.690000</td>\n",
       "      <td id=\"T_34ea3_row4_col10\" class=\"data row4 col10\" >0.000000</td>\n",
       "      <td id=\"T_34ea3_row4_col11\" class=\"data row4 col11\" >conventional</td>\n",
       "      <td id=\"T_34ea3_row4_col12\" class=\"data row4 col12\" >2015</td>\n",
       "      <td id=\"T_34ea3_row4_col13\" class=\"data row4 col13\" >Albany</td>\n",
       "    </tr>\n",
       "  </tbody>\n",
       "</table>\n"
      ],
      "text/plain": [
       "<pandas.io.formats.style.Styler at 0x160348850>"
      ]
     },
     "execution_count": 34,
     "metadata": {},
     "output_type": "execute_result"
    }
   ],
   "source": [
    "data.head().style.background_gradient(cmap='Greens').hide_index()"
   ]
  },
  {
   "cell_type": "markdown",
   "metadata": {},
   "source": [
    "# Limpieza de datos\n",
    "Verificamos que no existan valores null"
   ]
  },
  {
   "cell_type": "code",
   "execution_count": 7,
   "metadata": {},
   "outputs": [
    {
     "data": {
      "text/plain": [
       "Unnamed: 0      0\n",
       "Date            0\n",
       "AveragePrice    0\n",
       "Total Volume    0\n",
       "4046            0\n",
       "4225            0\n",
       "4770            0\n",
       "Total Bags      0\n",
       "Small Bags      0\n",
       "Large Bags      0\n",
       "XLarge Bags     0\n",
       "type            0\n",
       "year            0\n",
       "region          0\n",
       "dtype: int64"
      ]
     },
     "execution_count": 7,
     "metadata": {},
     "output_type": "execute_result"
    }
   ],
   "source": [
    "data.isnull().sum()"
   ]
  },
  {
   "cell_type": "markdown",
   "metadata": {},
   "source": [
    "Como podemos ver no existe ningun valor null en nuestro dataset asi que no es necesario realizar una limpieza de datos."
   ]
  },
  {
   "cell_type": "markdown",
   "metadata": {},
   "source": [
    "# Exploratory Data Analisys\n",
    "Resolveremos algunas preguntas haciendo uso de un EDA"
   ]
  },
  {
   "cell_type": "code",
   "execution_count": 30,
   "metadata": {},
   "outputs": [
    {
     "data": {
      "text/plain": [
       "<BarContainer object of 2 artists>"
      ]
     },
     "execution_count": 30,
     "metadata": {},
     "output_type": "execute_result"
    },
    {
     "data": {
      "image/png": "[encoded data removed]",
      "text/plain": [
       "<Figure size 1296x720 with 2 Axes>"
      ]
     },
     "metadata": {
      "needs_background": "light"
     },
     "output_type": "display_data"
    }
   ],
   "source": [
    "colores_aguacate= ['#356211', '#6C8F32', '#F2E880', '#C15C37', '#AA471F']\n",
    "colors = colores_aguacate[1:3]\n",
    "\n",
    "labels = data['type'].unique()\n",
    "plt.figure(figsize=(18,10))\n",
    "plt.subplot(1,2,1)\n",
    "plt.title('Porcentaje de aguacates por tipo')\n",
    "plt.pie(data['type'].value_counts(), labels = labels, autopct = '%.2f%%', colors=colors)\n",
    "\n",
    "plt.subplot(1,2,2)\n",
    "plt.title('Cantidad de aguacates por tipo')\n",
    "plt.bar(labels,data['type'].value_counts(),color= colors)\n"
   ]
  },
  {
   "cell_type": "markdown",
   "metadata": {},
   "source": [
    "Podemos ver que la distribucion entre aguacates convencionales y organicos es igualitaria."
   ]
  },
  {
   "cell_type": "markdown",
   "metadata": {},
   "source": [
    "# Aguacates vendidos por año"
   ]
  },
  {
   "cell_type": "code",
   "execution_count": 50,
   "metadata": {},
   "outputs": [
    {
     "data": {
      "text/plain": [
       "<BarContainer object of 4 artists>"
      ]
     },
     "execution_count": 50,
     "metadata": {},
     "output_type": "execute_result"
    },
    {
     "data": {
      "image/png": "[encoded data removed]",
      "text/plain": [
       "<Figure size 1296x720 with 2 Axes>"
      ]
     },
     "metadata": {
      "needs_background": "light"
     },
     "output_type": "display_data"
    }
   ],
   "source": [
    "labels = data['year'].unique()\n",
    "avocadoyear = data['year'].value_counts()\n",
    "\n",
    "plt.figure(figsize=(18,10))\n",
    "plt.subplot(1,2,1)\n",
    "plt.title('Porcentaje de aguacates vendidos por año')\n",
    "plt.pie(avocadoyear, labels = labels, autopct = '%.2f%%', colors=colores_aguacate)\n",
    "\n",
    "plt.subplot(1,2,2)\n",
    "plt.title('Aguacates vendidos por año')\n",
    "plt.bar(labels,data['year'].value_counts(), color = colors)"
   ]
  },
  {
   "cell_type": "markdown",
   "metadata": {},
   "source": [
    "Es el 2015 el año con más ventas de aguacates con un 31.36%<br>\n",
    "El 2018 es el año con menos ventas con un 7.10%"
   ]
  },
  {
   "cell_type": "markdown",
   "metadata": {},
   "source": [
    "# Top regiones con mas ventas de aguacates por tipo"
   ]
  },
  {
   "cell_type": "code",
   "execution_count": 66,
   "metadata": {},
   "outputs": [
    {
     "ename": "KeyError",
     "evalue": "'region'",
     "output_type": "error",
     "traceback": [
      "\u001b[0;31m---------------------------------------------------------------------------\u001b[0m",
      "\u001b[0;31mKeyError\u001b[0m                                  Traceback (most recent call last)",
      "File \u001b[0;32m~/Documents/BootCampDATAEND/datascience2022/venv/lib/python3.8/site-packages/pandas/core/indexes/base.py:3621\u001b[0m, in \u001b[0;36mIndex.get_loc\u001b[0;34m(self, key, method, tolerance)\u001b[0m\n\u001b[1;32m   <a href='file:///Users/danieltd/Documents/BootCampDATAEND/datascience2022/venv/lib/python3.8/site-packages/pandas/core/indexes/base.py?line=3619'>3620</a>\u001b[0m \u001b[39mtry\u001b[39;00m:\n\u001b[0;32m-> <a href='file:///Users/danieltd/Documents/BootCampDATAEND/datascience2022/venv/lib/python3.8/site-packages/pandas/core/indexes/base.py?line=3620'>3621</a>\u001b[0m     \u001b[39mreturn\u001b[39;00m \u001b[39mself\u001b[39;49m\u001b[39m.\u001b[39;49m_engine\u001b[39m.\u001b[39;49mget_loc(casted_key)\n\u001b[1;32m   <a href='file:///Users/danieltd/Documents/BootCampDATAEND/datascience2022/venv/lib/python3.8/site-packages/pandas/core/indexes/base.py?line=3621'>3622</a>\u001b[0m \u001b[39mexcept\u001b[39;00m \u001b[39mKeyError\u001b[39;00m \u001b[39mas\u001b[39;00m err:\n",
      "File \u001b[0;32mpandas/_libs/index.pyx:136\u001b[0m, in \u001b[0;36mpandas._libs.index.IndexEngine.get_loc\u001b[0;34m()\u001b[0m\n",
      "File \u001b[0;32mpandas/_libs/index.pyx:163\u001b[0m, in \u001b[0;36mpandas._libs.index.IndexEngine.get_loc\u001b[0;34m()\u001b[0m\n",
      "File \u001b[0;32mpandas/_libs/hashtable_class_helper.pxi:5198\u001b[0m, in \u001b[0;36mpandas._libs.hashtable.PyObjectHashTable.get_item\u001b[0;34m()\u001b[0m\n",
      "File \u001b[0;32mpandas/_libs/hashtable_class_helper.pxi:5206\u001b[0m, in \u001b[0;36mpandas._libs.hashtable.PyObjectHashTable.get_item\u001b[0;34m()\u001b[0m\n",
      "\u001b[0;31mKeyError\u001b[0m: 'region'",
      "\nThe above exception was the direct cause of the following exception:\n",
      "\u001b[0;31mKeyError\u001b[0m                                  Traceback (most recent call last)",
      "\u001b[1;32m/Users/danieltd/Documents/BootCampDATAEND/datascience2022/proyecto1v2/project.ipynb Cell 18'\u001b[0m in \u001b[0;36m<cell line: 15>\u001b[0;34m()\u001b[0m\n\u001b[1;32m     <a href='vscode-notebook-cell:/Users/danieltd/Documents/BootCampDATAEND/datascience2022/proyecto1v2/project.ipynb#ch0000027?line=11'>12</a>\u001b[0m orgdata \u001b[39m=\u001b[39m orgdata\u001b[39m.\u001b[39mto_frame()\u001b[39m.\u001b[39msort_values(by\u001b[39m=\u001b[39m\u001b[39m'\u001b[39m\u001b[39mTotal Volume\u001b[39m\u001b[39m'\u001b[39m,ascending\u001b[39m=\u001b[39m\u001b[39mFalse\u001b[39;00m)\n\u001b[1;32m     <a href='vscode-notebook-cell:/Users/danieltd/Documents/BootCampDATAEND/datascience2022/proyecto1v2/project.ipynb#ch0000027?line=12'>13</a>\u001b[0m toporgdata \u001b[39m=\u001b[39m orgdata\u001b[39m.\u001b[39mhead(\u001b[39m5\u001b[39m)\n\u001b[0;32m---> <a href='vscode-notebook-cell:/Users/danieltd/Documents/BootCampDATAEND/datascience2022/proyecto1v2/project.ipynb#ch0000027?line=14'>15</a>\u001b[0m labelsconv \u001b[39m=\u001b[39m topconvdata[\u001b[39m'\u001b[39;49m\u001b[39mregion\u001b[39;49m\u001b[39m'\u001b[39;49m]\u001b[39m.\u001b[39munique()\n\u001b[1;32m     <a href='vscode-notebook-cell:/Users/danieltd/Documents/BootCampDATAEND/datascience2022/proyecto1v2/project.ipynb#ch0000027?line=15'>16</a>\u001b[0m labelsorg \u001b[39m=\u001b[39m toporgdata[\u001b[39m'\u001b[39m\u001b[39mregion\u001b[39m\u001b[39m'\u001b[39m]\u001b[39m.\u001b[39munique()\n\u001b[1;32m     <a href='vscode-notebook-cell:/Users/danieltd/Documents/BootCampDATAEND/datascience2022/proyecto1v2/project.ipynb#ch0000027?line=17'>18</a>\u001b[0m plt\u001b[39m.\u001b[39mfigure(figsize\u001b[39m=\u001b[39m (\u001b[39m18\u001b[39m,\u001b[39m10\u001b[39m))\n",
      "File \u001b[0;32m~/Documents/BootCampDATAEND/datascience2022/venv/lib/python3.8/site-packages/pandas/core/frame.py:3505\u001b[0m, in \u001b[0;36mDataFrame.__getitem__\u001b[0;34m(self, key)\u001b[0m\n\u001b[1;32m   <a href='file:///Users/danieltd/Documents/BootCampDATAEND/datascience2022/venv/lib/python3.8/site-packages/pandas/core/frame.py?line=3502'>3503</a>\u001b[0m \u001b[39mif\u001b[39;00m \u001b[39mself\u001b[39m\u001b[39m.\u001b[39mcolumns\u001b[39m.\u001b[39mnlevels \u001b[39m>\u001b[39m \u001b[39m1\u001b[39m:\n\u001b[1;32m   <a href='file:///Users/danieltd/Documents/BootCampDATAEND/datascience2022/venv/lib/python3.8/site-packages/pandas/core/frame.py?line=3503'>3504</a>\u001b[0m     \u001b[39mreturn\u001b[39;00m \u001b[39mself\u001b[39m\u001b[39m.\u001b[39m_getitem_multilevel(key)\n\u001b[0;32m-> <a href='file:///Users/danieltd/Documents/BootCampDATAEND/datascience2022/venv/lib/python3.8/site-packages/pandas/core/frame.py?line=3504'>3505</a>\u001b[0m indexer \u001b[39m=\u001b[39m \u001b[39mself\u001b[39;49m\u001b[39m.\u001b[39;49mcolumns\u001b[39m.\u001b[39;49mget_loc(key)\n\u001b[1;32m   <a href='file:///Users/danieltd/Documents/BootCampDATAEND/datascience2022/venv/lib/python3.8/site-packages/pandas/core/frame.py?line=3505'>3506</a>\u001b[0m \u001b[39mif\u001b[39;00m is_integer(indexer):\n\u001b[1;32m   <a href='file:///Users/danieltd/Documents/BootCampDATAEND/datascience2022/venv/lib/python3.8/site-packages/pandas/core/frame.py?line=3506'>3507</a>\u001b[0m     indexer \u001b[39m=\u001b[39m [indexer]\n",
      "File \u001b[0;32m~/Documents/BootCampDATAEND/datascience2022/venv/lib/python3.8/site-packages/pandas/core/indexes/base.py:3623\u001b[0m, in \u001b[0;36mIndex.get_loc\u001b[0;34m(self, key, method, tolerance)\u001b[0m\n\u001b[1;32m   <a href='file:///Users/danieltd/Documents/BootCampDATAEND/datascience2022/venv/lib/python3.8/site-packages/pandas/core/indexes/base.py?line=3620'>3621</a>\u001b[0m     \u001b[39mreturn\u001b[39;00m \u001b[39mself\u001b[39m\u001b[39m.\u001b[39m_engine\u001b[39m.\u001b[39mget_loc(casted_key)\n\u001b[1;32m   <a href='file:///Users/danieltd/Documents/BootCampDATAEND/datascience2022/venv/lib/python3.8/site-packages/pandas/core/indexes/base.py?line=3621'>3622</a>\u001b[0m \u001b[39mexcept\u001b[39;00m \u001b[39mKeyError\u001b[39;00m \u001b[39mas\u001b[39;00m err:\n\u001b[0;32m-> <a href='file:///Users/danieltd/Documents/BootCampDATAEND/datascience2022/venv/lib/python3.8/site-packages/pandas/core/indexes/base.py?line=3622'>3623</a>\u001b[0m     \u001b[39mraise\u001b[39;00m \u001b[39mKeyError\u001b[39;00m(key) \u001b[39mfrom\u001b[39;00m \u001b[39merr\u001b[39;00m\n\u001b[1;32m   <a href='file:///Users/danieltd/Documents/BootCampDATAEND/datascience2022/venv/lib/python3.8/site-packages/pandas/core/indexes/base.py?line=3623'>3624</a>\u001b[0m \u001b[39mexcept\u001b[39;00m \u001b[39mTypeError\u001b[39;00m:\n\u001b[1;32m   <a href='file:///Users/danieltd/Documents/BootCampDATAEND/datascience2022/venv/lib/python3.8/site-packages/pandas/core/indexes/base.py?line=3624'>3625</a>\u001b[0m     \u001b[39m# If we have a listlike key, _check_indexing_error will raise\u001b[39;00m\n\u001b[1;32m   <a href='file:///Users/danieltd/Documents/BootCampDATAEND/datascience2022/venv/lib/python3.8/site-packages/pandas/core/indexes/base.py?line=3625'>3626</a>\u001b[0m     \u001b[39m#  InvalidIndexError. Otherwise we fall through and re-raise\u001b[39;00m\n\u001b[1;32m   <a href='file:///Users/danieltd/Documents/BootCampDATAEND/datascience2022/venv/lib/python3.8/site-packages/pandas/core/indexes/base.py?line=3626'>3627</a>\u001b[0m     \u001b[39m#  the TypeError.\u001b[39;00m\n\u001b[1;32m   <a href='file:///Users/danieltd/Documents/BootCampDATAEND/datascience2022/venv/lib/python3.8/site-packages/pandas/core/indexes/base.py?line=3627'>3628</a>\u001b[0m     \u001b[39mself\u001b[39m\u001b[39m.\u001b[39m_check_indexing_error(key)\n",
      "\u001b[0;31mKeyError\u001b[0m: 'region'"
     ]
    }
   ],
   "source": [
    "convdata = data[data[\"type\"]=='conventional']\n",
    "convdata = convdata[[\"region\",\"Total Volume\"]]\n",
    "convdata = convdata[convdata[\"region\"]!='TotalUS']\n",
    "convdata = convdata.groupby(by=['region'])['Total Volume'].sum()\n",
    "convdata =convdata.to_frame().sort_values(by='Total Volume',ascending=False)\n",
    "topconvdata = convdata.head(5)\n",
    "\n",
    "orgdata = data[data[\"type\"]=='organic']\n",
    "orgdata = orgdata[[\"region\",\"Total Volume\"]]\n",
    "orgdata = orgdata[orgdata[\"region\"]!='TotalUS']\n",
    "orgdata = orgdata.groupby(by=['region'])['Total Volume'].sum()\n",
    "orgdata = orgdata.to_frame().sort_values(by='Total Volume',ascending=False)\n",
    "toporgdata = orgdata.head(5)\n",
    "\n",
    "labelsconv = topconvdata[\"region\"].unique()\n",
    "labelsorg = toporgdata[\"region\"].unique()\n",
    "\n",
    "plt.figure(figsize= (18,10))\n",
    "plt.subplot(1,2,1)\n",
    "plt.title('Top regiones con mas ventas de aguantes convencionales')\n",
    "plt.bar(labelsconv,topconvdata['Total Volume'],color = colors)\n",
    "\n",
    "plt.subplot(1,2,2)\n",
    "plt.title('Top regiones con mas ventas de aguacates organicos')\n",
    "plt.bar(labelsorg,toporgdata['Total Volume'])"
   ]
  }
 ],
 "metadata": {
  "interpreter": {
   "hash": "04b3547a29c7d38834fd2cde863d7a01dcc27d70ec21ccb25846a6321ee1a577"
  },
  "kernelspec": {
   "display_name": "Python 3.8.9 ('venv': venv)",
   "language": "python",
   "name": "python3"
  },
  "language_info": {
   "codemirror_mode": {
    "name": "ipython",
    "version": 3
   },
   "file_extension": ".py",
   "mimetype": "text/x-python",
   "name": "python",
   "nbconvert_exporter": "python",
   "pygments_lexer": "ipython3",
   "version": "3.8.9"
  },
  "orig_nbformat": 4
 },
 "nbformat": 4,
 "nbformat_minor": 2
}
