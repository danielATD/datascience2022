{
 "cells": [
  {
   "cell_type": "code",
   "execution_count": 3,
   "id": "2a19bc62",
   "metadata": {},
   "outputs": [],
   "source": [
    "x=[10,12,9,23,16,14]"
   ]
  },
  {
   "cell_type": "code",
   "execution_count": 1,
   "id": "66c12277",
   "metadata": {},
   "outputs": [
    {
     "data": {
      "text/plain": [
       "14.0"
      ]
     },
     "execution_count": 1,
     "metadata": {},
     "output_type": "execute_result"
    }
   ],
   "source": [
    "def mean(list):   #FUNCION MEAN MEDIA\n",
    "    sum=0\n",
    "    \n",
    "    for element in list:\n",
    "        sum+=element\n",
    "        \n",
    "    return sum/len(list)\n",
    "\n",
    "mean(x)"
   ]
  },
  {
   "cell_type": "code",
   "execution_count": 2,
   "id": "4b960da7",
   "metadata": {},
   "outputs": [
    {
     "data": {
      "text/plain": [
       "6"
      ]
     },
     "execution_count": 2,
     "metadata": {},
     "output_type": "execute_result"
    }
   ],
   "source": [
    "len(x)"
   ]
  },
  {
   "cell_type": "code",
   "execution_count": 7,
   "id": "d6908f61",
   "metadata": {},
   "outputs": [
    {
     "data": {
      "text/plain": [
       "13.0"
      ]
     },
     "execution_count": 7,
     "metadata": {},
     "output_type": "execute_result"
    }
   ],
   "source": [
    "#FUNCION TRIMMED MEAN\n",
    "def trimmed_mean(list, p):\n",
    "    list.sort()\n",
    "    sum = 0\n",
    "    for element in list[p:-p]:\n",
    "        sum += element\n",
    "        \n",
    "    return sum/(len(list)-2*p)\n",
    "\n",
    "trimmed_mean(x,2)"
   ]
  },
  {
   "cell_type": "code",
   "execution_count": null,
   "id": "320daad1",
   "metadata": {},
   "outputs": [],
   "source": []
  }
 ],
 "metadata": {
  "kernelspec": {
   "display_name": "Python 3 (ipykernel)",
   "language": "python",
   "name": "python3"
  },
  "language_info": {
   "codemirror_mode": {
    "name": "ipython",
    "version": 3
   },
   "file_extension": ".py",
   "mimetype": "text/x-python",
   "name": "python",
   "nbconvert_exporter": "python",
   "pygments_lexer": "ipython3",
   "version": "3.10.4"
  }
 },
 "nbformat": 4,
 "nbformat_minor": 5
}
