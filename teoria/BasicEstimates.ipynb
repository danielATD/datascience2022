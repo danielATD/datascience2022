{
 "cells": [
  {
   "cell_type": "code",
   "execution_count": 3,
   "id": "7b997af9",
   "metadata": {},
   "outputs": [],
   "source": [
    "import numpy as np"
   ]
  },
  {
   "cell_type": "code",
   "execution_count": 3,
   "id": "2a19bc62",
   "metadata": {},
   "outputs": [],
   "source": [
    "x=[10,12,9,23,16,14]"
   ]
  },
  {
   "cell_type": "code",
   "execution_count": 1,
   "id": "66c12277",
   "metadata": {},
   "outputs": [
    {
     "data": {
      "text/plain": [
       "14.0"
      ]
     },
     "execution_count": 1,
     "metadata": {},
     "output_type": "execute_result"
    }
   ],
   "source": [
    "def mean(list):   #FUNCION MEAN MEDIA\n",
    "    sum=0\n",
    "    \n",
    "    for element in list:\n",
    "        sum+=element\n",
    "        \n",
    "    return sum/len(list)\n",
    "\n",
    "mean(x)"
   ]
  },
  {
   "cell_type": "code",
   "execution_count": 2,
   "id": "4b960da7",
   "metadata": {},
   "outputs": [
    {
     "data": {
      "text/plain": [
       "6"
      ]
     },
     "execution_count": 2,
     "metadata": {},
     "output_type": "execute_result"
    }
   ],
   "source": [
    "len(x)"
   ]
  },
  {
   "cell_type": "code",
   "execution_count": 7,
   "id": "d6908f61",
   "metadata": {},
   "outputs": [
    {
     "data": {
      "text/plain": [
       "13.0"
      ]
     },
     "execution_count": 7,
     "metadata": {},
     "output_type": "execute_result"
    }
   ],
   "source": [
    "#FUNCION TRIMMED MEAN\n",
    "def trimmed_mean(list, p):\n",
    "    list.sort()\n",
    "    sum = 0\n",
    "    for element in list[p:-p]:\n",
    "        sum += element\n",
    "        \n",
    "    return sum/(len(list)-2*p)\n",
    "\n",
    "trimmed_mean(x,2)"
   ]
  },
  {
   "cell_type": "code",
   "execution_count": 4,
   "id": "320daad1",
   "metadata": {},
   "outputs": [
    {
     "data": {
      "text/plain": [
       "2.5238095238095237"
      ]
     },
     "execution_count": 4,
     "metadata": {},
     "output_type": "execute_result"
    }
   ],
   "source": [
    "def weighted_mean(x,w):\n",
    "    arr_x = np.array(x)\n",
    "    arr_w = np.array(w)\n",
    "    return np.sum(arr_x*arr_w)/np.sum(arr_w)\n",
    "\n",
    "x=[1,2,3,4]\n",
    "w = [2,10,5,4]\n",
    "weighted_mean(x,w)"
   ]
  },
  {
   "cell_type": "code",
   "execution_count": null,
   "id": "04cad347",
   "metadata": {},
   "outputs": [],
   "source": []
  }
 ],
 "metadata": {
  "interpreter": {
   "hash": "04b3547a29c7d38834fd2cde863d7a01dcc27d70ec21ccb25846a6321ee1a577"
  },
  "kernelspec": {
   "display_name": "Python 3.8.9 ('venv': venv)",
   "language": "python",
   "name": "python3"
  },
  "language_info": {
   "codemirror_mode": {
    "name": "ipython",
    "version": 3
   },
   "file_extension": ".py",
   "mimetype": "text/x-python",
   "name": "python",
   "nbconvert_exporter": "python",
   "pygments_lexer": "ipython3",
   "version": "3.8.9"
  }
 },
 "nbformat": 4,
 "nbformat_minor": 5
}
