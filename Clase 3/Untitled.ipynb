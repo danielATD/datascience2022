{
 "cells": [
  {
   "cell_type": "code",
   "execution_count": 2,
   "id": "07d1548b",
   "metadata": {},
   "outputs": [],
   "source": [
    "import numpy as np"
   ]
  },
  {
   "cell_type": "code",
   "execution_count": 2,
   "id": "8a95e354",
   "metadata": {},
   "outputs": [],
   "source": [
    "np.random.seed(0) #Siempre Obtiene los mismos numeros aleatorios\n",
    "\n",
    "x1 = np. random.randint(10,size = 10)\n",
    "\n",
    "x2 = np.random.randint(10,size = (3,3))\n",
    "\n",
    "x3 = np.random.randint(10,size=(3,4,5))"
   ]
  },
  {
   "cell_type": "code",
   "execution_count": 3,
   "id": "eb87b4c9",
   "metadata": {},
   "outputs": [
    {
     "name": "stdout",
     "output_type": "stream",
     "text": [
      "[5 0 3 3 7 9 3 5 2 4]\n"
     ]
    }
   ],
   "source": [
    "print(x1)"
   ]
  },
  {
   "cell_type": "code",
   "execution_count": 4,
   "id": "5eaa7818",
   "metadata": {},
   "outputs": [
    {
     "name": "stdout",
     "output_type": "stream",
     "text": [
      "[[7 6 8]\n",
      " [8 1 6]\n",
      " [7 7 8]]\n",
      "[[[1 5 9 8 9]\n",
      "  [4 3 0 3 5]\n",
      "  [0 2 3 8 1]\n",
      "  [3 3 3 7 0]]\n",
      "\n",
      " [[1 9 9 0 4]\n",
      "  [7 3 2 7 2]\n",
      "  [0 0 4 5 5]\n",
      "  [6 8 4 1 4]]\n",
      "\n",
      " [[9 8 1 1 7]\n",
      "  [9 9 3 6 7]\n",
      "  [2 0 3 5 9]\n",
      "  [4 4 6 4 4]]]\n"
     ]
    }
   ],
   "source": [
    "print(x2)\n",
    "print(x3)"
   ]
  },
  {
   "cell_type": "code",
   "execution_count": 3,
   "id": "fb3a53fe",
   "metadata": {},
   "outputs": [
    {
     "data": {
      "text/plain": [
       "2"
      ]
     },
     "execution_count": 3,
     "metadata": {},
     "output_type": "execute_result"
    }
   ],
   "source": [
    "numeros = np.array([1,2,3,4,5])\n",
    "\n",
    "# Indexación\n",
    "numeros[1"
   ]
  },
  {
   "cell_type": "code",
   "execution_count": 4,
   "id": "b13b55e8",
   "metadata": {},
   "outputs": [],
   "source": [
    "#Array Slicing"
   ]
  },
  {
   "cell_type": "code",
   "execution_count": 5,
   "id": "af43d2a6",
   "metadata": {},
   "outputs": [],
   "source": [
    "# x[start:stop:step]\n",
    "\n",
    "x = np.arange(10)"
   ]
  },
  {
   "cell_type": "code",
   "execution_count": 6,
   "id": "ef18e644",
   "metadata": {},
   "outputs": [
    {
     "data": {
      "text/plain": [
       "array([0, 1, 2, 3, 4, 5, 6, 7, 8, 9])"
      ]
     },
     "execution_count": 6,
     "metadata": {},
     "output_type": "execute_result"
    }
   ],
   "source": [
    "x"
   ]
  },
  {
   "cell_type": "code",
   "execution_count": 7,
   "id": "f9af2433",
   "metadata": {},
   "outputs": [
    {
     "data": {
      "text/plain": [
       "array([0, 1, 2, 3, 4])"
      ]
     },
     "execution_count": 7,
     "metadata": {},
     "output_type": "execute_result"
    }
   ],
   "source": [
    "#Obtiene los elementos desde la posición 0 hasta la 5\n",
    "x[0:5]"
   ]
  },
  {
   "cell_type": "code",
   "execution_count": 8,
   "id": "96166282",
   "metadata": {},
   "outputs": [
    {
     "data": {
      "text/plain": [
       "array([0, 1, 2, 3, 4])"
      ]
     },
     "execution_count": 8,
     "metadata": {},
     "output_type": "execute_result"
    }
   ],
   "source": [
    "#Obtiene los primeros 5 elementos\n",
    "x[:5]"
   ]
  },
  {
   "cell_type": "code",
   "execution_count": 9,
   "id": "a6174f13",
   "metadata": {},
   "outputs": [
    {
     "data": {
      "text/plain": [
       "array([5, 6, 7, 8, 9])"
      ]
     },
     "execution_count": 9,
     "metadata": {},
     "output_type": "execute_result"
    }
   ],
   "source": [
    "#Obtiene los elementos desde la posición 5\n",
    "x[5:]"
   ]
  },
  {
   "cell_type": "code",
   "execution_count": 10,
   "id": "0659708f",
   "metadata": {},
   "outputs": [
    {
     "data": {
      "text/plain": [
       "array([2, 3, 4, 5, 6])"
      ]
     },
     "execution_count": 10,
     "metadata": {},
     "output_type": "execute_result"
    }
   ],
   "source": [
    "#Obtiene los elementos de la posición 2 a la 7\n",
    "\n",
    "x[2:7]"
   ]
  },
  {
   "cell_type": "code",
   "execution_count": 12,
   "id": "80cbe627",
   "metadata": {},
   "outputs": [
    {
     "data": {
      "text/plain": [
       "array([2, 4, 6])"
      ]
     },
     "execution_count": 12,
     "metadata": {},
     "output_type": "execute_result"
    }
   ],
   "source": [
    "#Obtiene los elementos de la posición 2 a la 7, de 2 en 2\n",
    "\n",
    "x[2:7:2]"
   ]
  },
  {
   "cell_type": "code",
   "execution_count": 13,
   "id": "9d03ab1f",
   "metadata": {},
   "outputs": [
    {
     "data": {
      "text/plain": [
       "array([9, 8, 7, 6, 5, 4, 3, 2, 1, 0])"
      ]
     },
     "execution_count": 13,
     "metadata": {},
     "output_type": "execute_result"
    }
   ],
   "source": [
    "# Revertir el arreglo\n",
    "\n",
    "x[::-1]"
   ]
  },
  {
   "cell_type": "code",
   "execution_count": 14,
   "id": "19ac8a56",
   "metadata": {},
   "outputs": [],
   "source": [
    "pares = x[2:7:2]\n",
    "\n",
    "pares [::-1]"
   ]
  },
  {
   "cell_type": "code",
   "execution_count": 5,
   "id": "1f37b4eb",
   "metadata": {},
   "outputs": [
    {
     "ename": "NameError",
     "evalue": "name 'x' is not defined",
     "output_type": "error",
     "traceback": [
      "\u001b[1;31m---------------------------------------------------------------------------\u001b[0m",
      "\u001b[1;31mNameError\u001b[0m                                 Traceback (most recent call last)",
      "Input \u001b[1;32mIn [5]\u001b[0m, in \u001b[0;36m<cell line: 1>\u001b[1;34m()\u001b[0m\n\u001b[1;32m----> 1\u001b[0m \u001b[43mx\u001b[49m[\u001b[38;5;241m7\u001b[39m:\u001b[38;5;241m2\u001b[39m:\u001b[38;5;241m-\u001b[39m\u001b[38;5;241m1\u001b[39m]\n",
      "\u001b[1;31mNameError\u001b[0m: name 'x' is not defined"
     ]
    }
   ],
   "source": [
    "x[7:2:-1]"
   ]
  },
  {
   "cell_type": "code",
   "execution_count": null,
   "id": "12542f7f",
   "metadata": {},
   "outputs": [],
   "source": []
  }
 ],
 "metadata": {
  "kernelspec": {
   "display_name": "Python 3 (ipykernel)",
   "language": "python",
   "name": "python3"
  },
  "language_info": {
   "codemirror_mode": {
    "name": "ipython",
    "version": 3
   },
   "file_extension": ".py",
   "mimetype": "text/x-python",
   "name": "python",
   "nbconvert_exporter": "python",
   "pygments_lexer": "ipython3",
   "version": "3.10.4"
  }
 },
 "nbformat": 4,
 "nbformat_minor": 5
}
